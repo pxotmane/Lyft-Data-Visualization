{
 "cells": [
  {
   "cell_type": "markdown",
   "metadata": {
    "slideshow": {
     "slide_type": "slide"
    }
   },
   "source": [
    "# Ford GoBike (Lyft) System Data\n",
    "\n",
    "## by DAOU Otmane\n",
    "\n",
    "<font size=\"4\">This project is about Bay Wheels (called also Ford GoBike after a  partnership with Ford Motor Company) routes for public use data set. Bay Wheels is a regional public bicycle sharing system in the San Francisco Bay Area, California. It's owned by Lyft, the system is expected to expand to 7,000 bicycles around 540 stations in San Francisco, Oakland, Berkeley, Emeryville, and San Jose. </font>"
   ]
  },
  {
   "cell_type": "code",
   "execution_count": 1,
   "metadata": {
    "slideshow": {
     "slide_type": "skip"
    }
   },
   "outputs": [],
   "source": [
    "# import all packages and set plots to be embedded inline\n",
    "import numpy as np\n",
    "import pandas as pd\n",
    "import matplotlib.pyplot as plt\n",
    "import seaborn as sb\n",
    "\n",
    "%matplotlib inline"
   ]
  },
  {
   "cell_type": "code",
   "execution_count": 2,
   "metadata": {
    "slideshow": {
     "slide_type": "skip"
    }
   },
   "outputs": [
    {
     "data": {
      "text/html": [
       "<div>\n",
       "<style scoped>\n",
       "    .dataframe tbody tr th:only-of-type {\n",
       "        vertical-align: middle;\n",
       "    }\n",
       "\n",
       "    .dataframe tbody tr th {\n",
       "        vertical-align: top;\n",
       "    }\n",
       "\n",
       "    .dataframe thead th {\n",
       "        text-align: right;\n",
       "    }\n",
       "</style>\n",
       "<table border=\"1\" class=\"dataframe\">\n",
       "  <thead>\n",
       "    <tr style=\"text-align: right;\">\n",
       "      <th></th>\n",
       "      <th>duration_sec</th>\n",
       "      <th>start_time</th>\n",
       "      <th>end_time</th>\n",
       "      <th>start_station_id</th>\n",
       "      <th>start_station_name</th>\n",
       "      <th>start_station_latitude</th>\n",
       "      <th>start_station_longitude</th>\n",
       "      <th>end_station_id</th>\n",
       "      <th>end_station_name</th>\n",
       "      <th>end_station_latitude</th>\n",
       "      <th>end_station_longitude</th>\n",
       "      <th>bike_id</th>\n",
       "      <th>user_type</th>\n",
       "    </tr>\n",
       "  </thead>\n",
       "  <tbody>\n",
       "    <tr>\n",
       "      <th>0</th>\n",
       "      <td>80110</td>\n",
       "      <td>2017-12-31 16:57:39.6540</td>\n",
       "      <td>2018-01-01 15:12:50.2450</td>\n",
       "      <td>74</td>\n",
       "      <td>Laguna St at Hayes St</td>\n",
       "      <td>37.776435</td>\n",
       "      <td>-122.426244</td>\n",
       "      <td>43</td>\n",
       "      <td>San Francisco Public Library (Grove St at Hyde...</td>\n",
       "      <td>37.778768</td>\n",
       "      <td>-122.415929</td>\n",
       "      <td>96</td>\n",
       "      <td>Customer</td>\n",
       "    </tr>\n",
       "    <tr>\n",
       "      <th>1</th>\n",
       "      <td>78800</td>\n",
       "      <td>2017-12-31 15:56:34.8420</td>\n",
       "      <td>2018-01-01 13:49:55.6170</td>\n",
       "      <td>284</td>\n",
       "      <td>Yerba Buena Center for the Arts (Howard St at ...</td>\n",
       "      <td>37.784872</td>\n",
       "      <td>-122.400876</td>\n",
       "      <td>96</td>\n",
       "      <td>Dolores St at 15th St</td>\n",
       "      <td>37.766210</td>\n",
       "      <td>-122.426614</td>\n",
       "      <td>88</td>\n",
       "      <td>Customer</td>\n",
       "    </tr>\n",
       "    <tr>\n",
       "      <th>2</th>\n",
       "      <td>45768</td>\n",
       "      <td>2017-12-31 22:45:48.4110</td>\n",
       "      <td>2018-01-01 11:28:36.8830</td>\n",
       "      <td>245</td>\n",
       "      <td>Downtown Berkeley BART</td>\n",
       "      <td>37.870348</td>\n",
       "      <td>-122.267764</td>\n",
       "      <td>245</td>\n",
       "      <td>Downtown Berkeley BART</td>\n",
       "      <td>37.870348</td>\n",
       "      <td>-122.267764</td>\n",
       "      <td>1094</td>\n",
       "      <td>Customer</td>\n",
       "    </tr>\n",
       "  </tbody>\n",
       "</table>\n",
       "</div>"
      ],
      "text/plain": [
       "   duration_sec                start_time                  end_time  \\\n",
       "0         80110  2017-12-31 16:57:39.6540  2018-01-01 15:12:50.2450   \n",
       "1         78800  2017-12-31 15:56:34.8420  2018-01-01 13:49:55.6170   \n",
       "2         45768  2017-12-31 22:45:48.4110  2018-01-01 11:28:36.8830   \n",
       "\n",
       "   start_station_id                                 start_station_name  \\\n",
       "0                74                              Laguna St at Hayes St   \n",
       "1               284  Yerba Buena Center for the Arts (Howard St at ...   \n",
       "2               245                             Downtown Berkeley BART   \n",
       "\n",
       "   start_station_latitude  start_station_longitude  end_station_id  \\\n",
       "0               37.776435              -122.426244              43   \n",
       "1               37.784872              -122.400876              96   \n",
       "2               37.870348              -122.267764             245   \n",
       "\n",
       "                                    end_station_name  end_station_latitude  \\\n",
       "0  San Francisco Public Library (Grove St at Hyde...             37.778768   \n",
       "1                              Dolores St at 15th St             37.766210   \n",
       "2                             Downtown Berkeley BART             37.870348   \n",
       "\n",
       "   end_station_longitude  bike_id user_type  \n",
       "0            -122.415929       96  Customer  \n",
       "1            -122.426614       88  Customer  \n",
       "2            -122.267764     1094  Customer  "
      ]
     },
     "execution_count": 2,
     "metadata": {},
     "output_type": "execute_result"
    }
   ],
   "source": [
    "df = pd.read_csv('2017-fordgobike-tripdata.csv')\n",
    "df.head(3)"
   ]
  },
  {
   "cell_type": "code",
   "execution_count": 3,
   "metadata": {
    "slideshow": {
     "slide_type": "skip"
    }
   },
   "outputs": [
    {
     "name": "stdout",
     "output_type": "stream",
     "text": [
      "<class 'pandas.core.frame.DataFrame'>\n",
      "RangeIndex: 519700 entries, 0 to 519699\n",
      "Data columns (total 13 columns):\n",
      " #   Column                   Non-Null Count   Dtype  \n",
      "---  ------                   --------------   -----  \n",
      " 0   duration_sec             519700 non-null  int64  \n",
      " 1   start_time               519700 non-null  object \n",
      " 2   end_time                 519700 non-null  object \n",
      " 3   start_station_id         519700 non-null  int64  \n",
      " 4   start_station_name       519700 non-null  object \n",
      " 5   start_station_latitude   519700 non-null  float64\n",
      " 6   start_station_longitude  519700 non-null  float64\n",
      " 7   end_station_id           519700 non-null  int64  \n",
      " 8   end_station_name         519700 non-null  object \n",
      " 9   end_station_latitude     519700 non-null  float64\n",
      " 10  end_station_longitude    519700 non-null  float64\n",
      " 11  bike_id                  519700 non-null  int64  \n",
      " 12  user_type                519700 non-null  object \n",
      "dtypes: float64(4), int64(4), object(5)\n",
      "memory usage: 51.5+ MB\n"
     ]
    }
   ],
   "source": [
    "df.info()"
   ]
  },
  {
   "cell_type": "code",
   "execution_count": 4,
   "metadata": {
    "slideshow": {
     "slide_type": "skip"
    }
   },
   "outputs": [
    {
     "data": {
      "text/plain": [
       "(519700, 13)"
      ]
     },
     "execution_count": 4,
     "metadata": {},
     "output_type": "execute_result"
    }
   ],
   "source": [
    "df.shape"
   ]
  },
  {
   "cell_type": "code",
   "execution_count": 5,
   "metadata": {
    "slideshow": {
     "slide_type": "skip"
    }
   },
   "outputs": [
    {
     "data": {
      "text/html": [
       "<div>\n",
       "<style scoped>\n",
       "    .dataframe tbody tr th:only-of-type {\n",
       "        vertical-align: middle;\n",
       "    }\n",
       "\n",
       "    .dataframe tbody tr th {\n",
       "        vertical-align: top;\n",
       "    }\n",
       "\n",
       "    .dataframe thead th {\n",
       "        text-align: right;\n",
       "    }\n",
       "</style>\n",
       "<table border=\"1\" class=\"dataframe\">\n",
       "  <thead>\n",
       "    <tr style=\"text-align: right;\">\n",
       "      <th></th>\n",
       "      <th>duration_sec</th>\n",
       "      <th>start_station_id</th>\n",
       "      <th>start_station_latitude</th>\n",
       "      <th>start_station_longitude</th>\n",
       "      <th>end_station_id</th>\n",
       "      <th>end_station_latitude</th>\n",
       "      <th>end_station_longitude</th>\n",
       "      <th>bike_id</th>\n",
       "    </tr>\n",
       "  </thead>\n",
       "  <tbody>\n",
       "    <tr>\n",
       "      <th>count</th>\n",
       "      <td>519700.000000</td>\n",
       "      <td>519700.000000</td>\n",
       "      <td>519700.000000</td>\n",
       "      <td>519700.000000</td>\n",
       "      <td>519700.000000</td>\n",
       "      <td>519700.000000</td>\n",
       "      <td>519700.000000</td>\n",
       "      <td>519700.000000</td>\n",
       "    </tr>\n",
       "    <tr>\n",
       "      <th>mean</th>\n",
       "      <td>1099.009521</td>\n",
       "      <td>95.034245</td>\n",
       "      <td>37.771653</td>\n",
       "      <td>-122.363927</td>\n",
       "      <td>92.184041</td>\n",
       "      <td>37.771844</td>\n",
       "      <td>-122.363236</td>\n",
       "      <td>1672.533079</td>\n",
       "    </tr>\n",
       "    <tr>\n",
       "      <th>std</th>\n",
       "      <td>3444.146451</td>\n",
       "      <td>86.083078</td>\n",
       "      <td>0.086305</td>\n",
       "      <td>0.105573</td>\n",
       "      <td>84.969491</td>\n",
       "      <td>0.086224</td>\n",
       "      <td>0.105122</td>\n",
       "      <td>971.356959</td>\n",
       "    </tr>\n",
       "    <tr>\n",
       "      <th>min</th>\n",
       "      <td>61.000000</td>\n",
       "      <td>3.000000</td>\n",
       "      <td>37.317298</td>\n",
       "      <td>-122.444293</td>\n",
       "      <td>3.000000</td>\n",
       "      <td>37.317298</td>\n",
       "      <td>-122.444293</td>\n",
       "      <td>10.000000</td>\n",
       "    </tr>\n",
       "    <tr>\n",
       "      <th>25%</th>\n",
       "      <td>382.000000</td>\n",
       "      <td>24.000000</td>\n",
       "      <td>37.773492</td>\n",
       "      <td>-122.411726</td>\n",
       "      <td>23.000000</td>\n",
       "      <td>37.774520</td>\n",
       "      <td>-122.410345</td>\n",
       "      <td>787.000000</td>\n",
       "    </tr>\n",
       "    <tr>\n",
       "      <th>50%</th>\n",
       "      <td>596.000000</td>\n",
       "      <td>67.000000</td>\n",
       "      <td>37.783521</td>\n",
       "      <td>-122.398870</td>\n",
       "      <td>66.000000</td>\n",
       "      <td>37.783830</td>\n",
       "      <td>-122.398525</td>\n",
       "      <td>1728.500000</td>\n",
       "    </tr>\n",
       "    <tr>\n",
       "      <th>75%</th>\n",
       "      <td>938.000000</td>\n",
       "      <td>139.000000</td>\n",
       "      <td>37.795392</td>\n",
       "      <td>-122.391034</td>\n",
       "      <td>134.000000</td>\n",
       "      <td>37.795392</td>\n",
       "      <td>-122.391034</td>\n",
       "      <td>2520.000000</td>\n",
       "    </tr>\n",
       "    <tr>\n",
       "      <th>max</th>\n",
       "      <td>86369.000000</td>\n",
       "      <td>340.000000</td>\n",
       "      <td>37.880222</td>\n",
       "      <td>-121.874119</td>\n",
       "      <td>340.000000</td>\n",
       "      <td>37.880222</td>\n",
       "      <td>-121.874119</td>\n",
       "      <td>3733.000000</td>\n",
       "    </tr>\n",
       "  </tbody>\n",
       "</table>\n",
       "</div>"
      ],
      "text/plain": [
       "        duration_sec  start_station_id  start_station_latitude  \\\n",
       "count  519700.000000     519700.000000           519700.000000   \n",
       "mean     1099.009521         95.034245               37.771653   \n",
       "std      3444.146451         86.083078                0.086305   \n",
       "min        61.000000          3.000000               37.317298   \n",
       "25%       382.000000         24.000000               37.773492   \n",
       "50%       596.000000         67.000000               37.783521   \n",
       "75%       938.000000        139.000000               37.795392   \n",
       "max     86369.000000        340.000000               37.880222   \n",
       "\n",
       "       start_station_longitude  end_station_id  end_station_latitude  \\\n",
       "count            519700.000000   519700.000000         519700.000000   \n",
       "mean               -122.363927       92.184041             37.771844   \n",
       "std                   0.105573       84.969491              0.086224   \n",
       "min                -122.444293        3.000000             37.317298   \n",
       "25%                -122.411726       23.000000             37.774520   \n",
       "50%                -122.398870       66.000000             37.783830   \n",
       "75%                -122.391034      134.000000             37.795392   \n",
       "max                -121.874119      340.000000             37.880222   \n",
       "\n",
       "       end_station_longitude        bike_id  \n",
       "count          519700.000000  519700.000000  \n",
       "mean             -122.363236    1672.533079  \n",
       "std                 0.105122     971.356959  \n",
       "min              -122.444293      10.000000  \n",
       "25%              -122.410345     787.000000  \n",
       "50%              -122.398525    1728.500000  \n",
       "75%              -122.391034    2520.000000  \n",
       "max              -121.874119    3733.000000  "
      ]
     },
     "execution_count": 5,
     "metadata": {},
     "output_type": "execute_result"
    }
   ],
   "source": [
    "df.describe()"
   ]
  },
  {
   "cell_type": "markdown",
   "metadata": {
    "slideshow": {
     "slide_type": "skip"
    }
   },
   "source": [
    "<font size = \"3\">As I noticed they are many outliers values which need to reduce their impact in any futur plotting or analysis. For this, I will use IQR calculting method to drop all outliers values from the dataset.<font>"
   ]
  },
  {
   "cell_type": "code",
   "execution_count": 6,
   "metadata": {
    "slideshow": {
     "slide_type": "skip"
    }
   },
   "outputs": [
    {
     "data": {
      "text/plain": [
       "duration_sec                556.000000\n",
       "start_station_id            115.000000\n",
       "start_station_latitude        0.021900\n",
       "start_station_longitude       0.020692\n",
       "end_station_id              111.000000\n",
       "end_station_latitude          0.020872\n",
       "end_station_longitude         0.019311\n",
       "bike_id                    1733.000000\n",
       "dtype: float64"
      ]
     },
     "execution_count": 6,
     "metadata": {},
     "output_type": "execute_result"
    }
   ],
   "source": [
    "# Calculating the quartil interval\n",
    "Q1 = df.quantile(0.25)\n",
    "Q3 = df.quantile(0.75)\n",
    "IQR = Q3 - Q1\n",
    "IQR"
   ]
  },
  {
   "cell_type": "code",
   "execution_count": 7,
   "metadata": {
    "slideshow": {
     "slide_type": "skip"
    }
   },
   "outputs": [
    {
     "data": {
      "text/plain": [
       "(357900, 13)"
      ]
     },
     "execution_count": 7,
     "metadata": {},
     "output_type": "execute_result"
    }
   ],
   "source": [
    "#Just keep the values that are within the range Q1 - 1.5*IQR and Q4 + 1.5*IQR. \n",
    "df = df[~((df < (Q1 - 1.5 * IQR)) |(df > (Q3 + 1.5 * IQR))).any(axis=1)]\n",
    "df.shape"
   ]
  },
  {
   "cell_type": "markdown",
   "metadata": {
    "slideshow": {
     "slide_type": "skip"
    }
   },
   "source": [
    "<font size = \"3\"> As we can notice that the number of observation is reduced by 161800 observations (519700-357900), all this observations are outlier values. <font>"
   ]
  },
  {
   "cell_type": "markdown",
   "metadata": {
    "slideshow": {
     "slide_type": "skip"
    }
   },
   "source": [
    "### Some quality wrangling work "
   ]
  },
  {
   "cell_type": "markdown",
   "metadata": {
    "slideshow": {
     "slide_type": "skip"
    }
   },
   "source": [
    "<font size=\"3\">I noticed that it is necessary to convert the duration_sec column to a more readable time form, for this purpose I executed a conversion function for each value in this column and creating new column with the new time format</font>"
   ]
  },
  {
   "cell_type": "code",
   "execution_count": 8,
   "metadata": {
    "slideshow": {
     "slide_type": "skip"
    }
   },
   "outputs": [
    {
     "data": {
      "text/html": [
       "<div>\n",
       "<style scoped>\n",
       "    .dataframe tbody tr th:only-of-type {\n",
       "        vertical-align: middle;\n",
       "    }\n",
       "\n",
       "    .dataframe tbody tr th {\n",
       "        vertical-align: top;\n",
       "    }\n",
       "\n",
       "    .dataframe thead th {\n",
       "        text-align: right;\n",
       "    }\n",
       "</style>\n",
       "<table border=\"1\" class=\"dataframe\">\n",
       "  <thead>\n",
       "    <tr style=\"text-align: right;\">\n",
       "      <th></th>\n",
       "      <th>duration_sec</th>\n",
       "      <th>start_time</th>\n",
       "      <th>end_time</th>\n",
       "      <th>start_station_id</th>\n",
       "      <th>start_station_name</th>\n",
       "      <th>start_station_latitude</th>\n",
       "      <th>start_station_longitude</th>\n",
       "      <th>end_station_id</th>\n",
       "      <th>end_station_name</th>\n",
       "      <th>end_station_latitude</th>\n",
       "      <th>end_station_longitude</th>\n",
       "      <th>bike_id</th>\n",
       "      <th>user_type</th>\n",
       "      <th>hire_time</th>\n",
       "    </tr>\n",
       "  </thead>\n",
       "  <tbody>\n",
       "    <tr>\n",
       "      <th>15</th>\n",
       "      <td>1544</td>\n",
       "      <td>2017-12-31 23:53:38.9430</td>\n",
       "      <td>2018-01-01 00:19:23.0470</td>\n",
       "      <td>14</td>\n",
       "      <td>Clay St at Battery St</td>\n",
       "      <td>37.795001</td>\n",
       "      <td>-122.39997</td>\n",
       "      <td>27</td>\n",
       "      <td>Beale St at Harrison St</td>\n",
       "      <td>37.788059</td>\n",
       "      <td>-122.391865</td>\n",
       "      <td>558</td>\n",
       "      <td>Subscriber</td>\n",
       "      <td>0:25</td>\n",
       "    </tr>\n",
       "    <tr>\n",
       "      <th>16</th>\n",
       "      <td>1474</td>\n",
       "      <td>2017-12-31 23:54:40.1460</td>\n",
       "      <td>2018-01-01 00:19:14.3510</td>\n",
       "      <td>14</td>\n",
       "      <td>Clay St at Battery St</td>\n",
       "      <td>37.795001</td>\n",
       "      <td>-122.39997</td>\n",
       "      <td>27</td>\n",
       "      <td>Beale St at Harrison St</td>\n",
       "      <td>37.788059</td>\n",
       "      <td>-122.391865</td>\n",
       "      <td>3646</td>\n",
       "      <td>Subscriber</td>\n",
       "      <td>0:24</td>\n",
       "    </tr>\n",
       "  </tbody>\n",
       "</table>\n",
       "</div>"
      ],
      "text/plain": [
       "    duration_sec                start_time                  end_time  \\\n",
       "15          1544  2017-12-31 23:53:38.9430  2018-01-01 00:19:23.0470   \n",
       "16          1474  2017-12-31 23:54:40.1460  2018-01-01 00:19:14.3510   \n",
       "\n",
       "    start_station_id     start_station_name  start_station_latitude  \\\n",
       "15                14  Clay St at Battery St               37.795001   \n",
       "16                14  Clay St at Battery St               37.795001   \n",
       "\n",
       "    start_station_longitude  end_station_id         end_station_name  \\\n",
       "15               -122.39997              27  Beale St at Harrison St   \n",
       "16               -122.39997              27  Beale St at Harrison St   \n",
       "\n",
       "    end_station_latitude  end_station_longitude  bike_id   user_type hire_time  \n",
       "15             37.788059            -122.391865      558  Subscriber      0:25  \n",
       "16             37.788059            -122.391865     3646  Subscriber      0:24  "
      ]
     },
     "execution_count": 8,
     "metadata": {},
     "output_type": "execute_result"
    }
   ],
   "source": [
    "#Creating a function which convert duration_sec values to time format\n",
    "def convert(seconds): \n",
    "    min, sec = divmod(seconds, 60) #Convert seconds to minutes \n",
    "    hour, min = divmod(min, 60) #Convert minutes to hours\n",
    "    return \"%d:%02d\" % (hour, min) #Return the getting hour and minute in giving format\n",
    "\n",
    "df['hire_time'] = df.duration_sec.apply(lambda x : convert(x)) #Apply the convert function for duration_sec \n",
    "                                                                #and creating a new column called hire_time \n",
    "\n",
    "df.head(2)"
   ]
  },
  {
   "cell_type": "markdown",
   "metadata": {
    "slideshow": {
     "slide_type": "skip"
    }
   },
   "source": [
    "<font size=\"3\">I noticed that it is necessary also to calculate distance from start station to end station based latitude and longitude values, for this purpose I performed a mathematical function</font>"
   ]
  },
  {
   "cell_type": "code",
   "execution_count": 9,
   "metadata": {
    "slideshow": {
     "slide_type": "skip"
    }
   },
   "outputs": [
    {
     "data": {
      "text/html": [
       "<div>\n",
       "<style scoped>\n",
       "    .dataframe tbody tr th:only-of-type {\n",
       "        vertical-align: middle;\n",
       "    }\n",
       "\n",
       "    .dataframe tbody tr th {\n",
       "        vertical-align: top;\n",
       "    }\n",
       "\n",
       "    .dataframe thead th {\n",
       "        text-align: right;\n",
       "    }\n",
       "</style>\n",
       "<table border=\"1\" class=\"dataframe\">\n",
       "  <thead>\n",
       "    <tr style=\"text-align: right;\">\n",
       "      <th></th>\n",
       "      <th>duration_sec</th>\n",
       "      <th>start_time</th>\n",
       "      <th>end_time</th>\n",
       "      <th>start_station_id</th>\n",
       "      <th>start_station_name</th>\n",
       "      <th>start_station_latitude</th>\n",
       "      <th>start_station_longitude</th>\n",
       "      <th>end_station_id</th>\n",
       "      <th>end_station_name</th>\n",
       "      <th>end_station_latitude</th>\n",
       "      <th>end_station_longitude</th>\n",
       "      <th>bike_id</th>\n",
       "      <th>user_type</th>\n",
       "      <th>hire_time</th>\n",
       "      <th>distance</th>\n",
       "    </tr>\n",
       "  </thead>\n",
       "  <tbody>\n",
       "    <tr>\n",
       "      <th>15</th>\n",
       "      <td>1544</td>\n",
       "      <td>2017-12-31 23:53:38.9430</td>\n",
       "      <td>2018-01-01 00:19:23.0470</td>\n",
       "      <td>14</td>\n",
       "      <td>Clay St at Battery St</td>\n",
       "      <td>37.795001</td>\n",
       "      <td>-122.39997</td>\n",
       "      <td>27</td>\n",
       "      <td>Beale St at Harrison St</td>\n",
       "      <td>37.788059</td>\n",
       "      <td>-122.391865</td>\n",
       "      <td>558</td>\n",
       "      <td>Subscriber</td>\n",
       "      <td>0:25</td>\n",
       "      <td>1.1</td>\n",
       "    </tr>\n",
       "    <tr>\n",
       "      <th>16</th>\n",
       "      <td>1474</td>\n",
       "      <td>2017-12-31 23:54:40.1460</td>\n",
       "      <td>2018-01-01 00:19:14.3510</td>\n",
       "      <td>14</td>\n",
       "      <td>Clay St at Battery St</td>\n",
       "      <td>37.795001</td>\n",
       "      <td>-122.39997</td>\n",
       "      <td>27</td>\n",
       "      <td>Beale St at Harrison St</td>\n",
       "      <td>37.788059</td>\n",
       "      <td>-122.391865</td>\n",
       "      <td>3646</td>\n",
       "      <td>Subscriber</td>\n",
       "      <td>0:24</td>\n",
       "      <td>1.1</td>\n",
       "    </tr>\n",
       "  </tbody>\n",
       "</table>\n",
       "</div>"
      ],
      "text/plain": [
       "    duration_sec                start_time                  end_time  \\\n",
       "15          1544  2017-12-31 23:53:38.9430  2018-01-01 00:19:23.0470   \n",
       "16          1474  2017-12-31 23:54:40.1460  2018-01-01 00:19:14.3510   \n",
       "\n",
       "    start_station_id     start_station_name  start_station_latitude  \\\n",
       "15                14  Clay St at Battery St               37.795001   \n",
       "16                14  Clay St at Battery St               37.795001   \n",
       "\n",
       "    start_station_longitude  end_station_id         end_station_name  \\\n",
       "15               -122.39997              27  Beale St at Harrison St   \n",
       "16               -122.39997              27  Beale St at Harrison St   \n",
       "\n",
       "    end_station_latitude  end_station_longitude  bike_id   user_type  \\\n",
       "15             37.788059            -122.391865      558  Subscriber   \n",
       "16             37.788059            -122.391865     3646  Subscriber   \n",
       "\n",
       "   hire_time distance  \n",
       "15      0:25      1.1  \n",
       "16      0:24      1.1  "
      ]
     },
     "execution_count": 9,
     "metadata": {},
     "output_type": "execute_result"
    }
   ],
   "source": [
    "from math import sin, cos, sqrt, atan2, radians\n",
    "\n",
    "#Creating distances function \n",
    "def distances(x1, y1, x2, y2):\n",
    "    # approximate radius of earth in km\n",
    "    R = 6373.0\n",
    "    \n",
    "    #Calculing the radians of start point and end point of longitude, and the same of latitude\n",
    "    lat1 = radians(x1)\n",
    "    lon1 = radians(y1)\n",
    "    lat2 = radians(x2)\n",
    "    lon2 = radians(y2)\n",
    "    \n",
    "    #Calculing the difference between the start point and end point\n",
    "    dlon = lon2 - lon1\n",
    "    dlat = lat2 - lat1\n",
    "\n",
    "    a = sin(dlat / 2)**2 + cos(lat1) * cos(lat2) * sin(dlon / 2)**2\n",
    "    c = 2 * atan2(sqrt(a), sqrt(1 - a))\n",
    "\n",
    "    distance = '{:0.1f}'.format(R * c)\n",
    "    \n",
    "    return distance\n",
    "#\n",
    "df['distance'] = df.apply(lambda row : distances(row['start_station_latitude'], row['start_station_longitude'], \n",
    "                                                 row['end_station_latitude'], row['end_station_longitude']), axis = 1) \n",
    "\n",
    "df.head(2)"
   ]
  },
  {
   "cell_type": "markdown",
   "metadata": {
    "slideshow": {
     "slide_type": "skip"
    }
   },
   "source": [
    "<font size = \"3\">Convert the distance and hire time values to convenient format</font>"
   ]
  },
  {
   "cell_type": "code",
   "execution_count": 10,
   "metadata": {
    "slideshow": {
     "slide_type": "skip"
    }
   },
   "outputs": [],
   "source": [
    "# convert distance to float\n",
    "df.distance = df.distance.astype('float')"
   ]
  },
  {
   "cell_type": "code",
   "execution_count": 11,
   "metadata": {
    "slideshow": {
     "slide_type": "skip"
    }
   },
   "outputs": [],
   "source": [
    "#Convert hire_time to timedelta\n",
    "from datetime import datetime, timedelta\n",
    "\n",
    "def convert(x):\n",
    "    # Specify the input and the format\n",
    "    t = datetime.strptime(str(x),\"%H:%M\")\n",
    "    # And use datetime's hour, min and sec properties to build a timedelta\n",
    "    delta = timedelta(hours=t.hour, minutes=t.minute)\n",
    "    return delta\n",
    "\n",
    "df['hire_time'] = df.hire_time.apply(lambda x: convert(x)) #Apply the convert function to hire_time column"
   ]
  },
  {
   "cell_type": "code",
   "execution_count": 12,
   "metadata": {
    "slideshow": {
     "slide_type": "skip"
    }
   },
   "outputs": [
    {
     "data": {
      "text/html": [
       "<div>\n",
       "<style scoped>\n",
       "    .dataframe tbody tr th:only-of-type {\n",
       "        vertical-align: middle;\n",
       "    }\n",
       "\n",
       "    .dataframe tbody tr th {\n",
       "        vertical-align: top;\n",
       "    }\n",
       "\n",
       "    .dataframe thead th {\n",
       "        text-align: right;\n",
       "    }\n",
       "</style>\n",
       "<table border=\"1\" class=\"dataframe\">\n",
       "  <thead>\n",
       "    <tr style=\"text-align: right;\">\n",
       "      <th></th>\n",
       "      <th>duration_sec</th>\n",
       "      <th>start_time</th>\n",
       "      <th>end_time</th>\n",
       "      <th>start_station_id</th>\n",
       "      <th>start_station_name</th>\n",
       "      <th>start_station_latitude</th>\n",
       "      <th>start_station_longitude</th>\n",
       "      <th>end_station_id</th>\n",
       "      <th>end_station_name</th>\n",
       "      <th>end_station_latitude</th>\n",
       "      <th>end_station_longitude</th>\n",
       "      <th>bike_id</th>\n",
       "      <th>user_type</th>\n",
       "      <th>hire_time</th>\n",
       "      <th>distance</th>\n",
       "    </tr>\n",
       "  </thead>\n",
       "  <tbody>\n",
       "    <tr>\n",
       "      <th>15</th>\n",
       "      <td>1544</td>\n",
       "      <td>2017-12-31 23:53:38.9430</td>\n",
       "      <td>2018-01-01 00:19:23.0470</td>\n",
       "      <td>14</td>\n",
       "      <td>Clay St at Battery St</td>\n",
       "      <td>37.795001</td>\n",
       "      <td>-122.39997</td>\n",
       "      <td>27</td>\n",
       "      <td>Beale St at Harrison St</td>\n",
       "      <td>37.788059</td>\n",
       "      <td>-122.391865</td>\n",
       "      <td>558</td>\n",
       "      <td>Subscriber</td>\n",
       "      <td>00:25:00</td>\n",
       "      <td>1.1</td>\n",
       "    </tr>\n",
       "    <tr>\n",
       "      <th>16</th>\n",
       "      <td>1474</td>\n",
       "      <td>2017-12-31 23:54:40.1460</td>\n",
       "      <td>2018-01-01 00:19:14.3510</td>\n",
       "      <td>14</td>\n",
       "      <td>Clay St at Battery St</td>\n",
       "      <td>37.795001</td>\n",
       "      <td>-122.39997</td>\n",
       "      <td>27</td>\n",
       "      <td>Beale St at Harrison St</td>\n",
       "      <td>37.788059</td>\n",
       "      <td>-122.391865</td>\n",
       "      <td>3646</td>\n",
       "      <td>Subscriber</td>\n",
       "      <td>00:24:00</td>\n",
       "      <td>1.1</td>\n",
       "    </tr>\n",
       "  </tbody>\n",
       "</table>\n",
       "</div>"
      ],
      "text/plain": [
       "    duration_sec                start_time                  end_time  \\\n",
       "15          1544  2017-12-31 23:53:38.9430  2018-01-01 00:19:23.0470   \n",
       "16          1474  2017-12-31 23:54:40.1460  2018-01-01 00:19:14.3510   \n",
       "\n",
       "    start_station_id     start_station_name  start_station_latitude  \\\n",
       "15                14  Clay St at Battery St               37.795001   \n",
       "16                14  Clay St at Battery St               37.795001   \n",
       "\n",
       "    start_station_longitude  end_station_id         end_station_name  \\\n",
       "15               -122.39997              27  Beale St at Harrison St   \n",
       "16               -122.39997              27  Beale St at Harrison St   \n",
       "\n",
       "    end_station_latitude  end_station_longitude  bike_id   user_type  \\\n",
       "15             37.788059            -122.391865      558  Subscriber   \n",
       "16             37.788059            -122.391865     3646  Subscriber   \n",
       "\n",
       "   hire_time  distance  \n",
       "15  00:25:00       1.1  \n",
       "16  00:24:00       1.1  "
      ]
     },
     "execution_count": 12,
     "metadata": {},
     "output_type": "execute_result"
    }
   ],
   "source": [
    "df.head(2)"
   ]
  },
  {
   "cell_type": "markdown",
   "metadata": {
    "slideshow": {
     "slide_type": "skip"
    }
   },
   "source": [
    "<font size = \"3\">I noticed that is useful to extract year, month, day from the start_time column.</font>"
   ]
  },
  {
   "cell_type": "code",
   "execution_count": 13,
   "metadata": {
    "slideshow": {
     "slide_type": "skip"
    }
   },
   "outputs": [],
   "source": [
    "#convert start_time to datetime\n",
    "df['start_time'] = pd.to_datetime(df['start_time'])\n",
    "\n",
    "#extract year, month and day from start_time column to new columns\n",
    "df['start_year'] = df['start_time'].dt.year\n",
    "df['start_month'] = df['start_time'].dt.month\n",
    "df['start_day'] = df['start_time'].dt.day"
   ]
  },
  {
   "cell_type": "code",
   "execution_count": 14,
   "metadata": {
    "slideshow": {
     "slide_type": "skip"
    }
   },
   "outputs": [
    {
     "name": "stdout",
     "output_type": "stream",
     "text": [
      "<class 'pandas.core.frame.DataFrame'>\n",
      "Int64Index: 357900 entries, 15 to 519699\n",
      "Data columns (total 18 columns):\n",
      " #   Column                   Non-Null Count   Dtype          \n",
      "---  ------                   --------------   -----          \n",
      " 0   duration_sec             357900 non-null  int64          \n",
      " 1   start_time               357900 non-null  datetime64[ns] \n",
      " 2   end_time                 357900 non-null  object         \n",
      " 3   start_station_id         357900 non-null  int64          \n",
      " 4   start_station_name       357900 non-null  object         \n",
      " 5   start_station_latitude   357900 non-null  float64        \n",
      " 6   start_station_longitude  357900 non-null  float64        \n",
      " 7   end_station_id           357900 non-null  int64          \n",
      " 8   end_station_name         357900 non-null  object         \n",
      " 9   end_station_latitude     357900 non-null  float64        \n",
      " 10  end_station_longitude    357900 non-null  float64        \n",
      " 11  bike_id                  357900 non-null  int64          \n",
      " 12  user_type                357900 non-null  object         \n",
      " 13  hire_time                357900 non-null  timedelta64[ns]\n",
      " 14  distance                 357900 non-null  float64        \n",
      " 15  start_year               357900 non-null  int64          \n",
      " 16  start_month              357900 non-null  int64          \n",
      " 17  start_day                357900 non-null  int64          \n",
      "dtypes: datetime64[ns](1), float64(5), int64(7), object(4), timedelta64[ns](1)\n",
      "memory usage: 51.9+ MB\n"
     ]
    }
   ],
   "source": [
    "df.info()"
   ]
  },
  {
   "cell_type": "markdown",
   "metadata": {
    "slideshow": {
     "slide_type": "slide"
    }
   },
   "source": [
    "### The structure of dataset\n",
    " <br>\n",
    "<font size=\"4\">\n",
    "This dataset contains 519700 observations and 13 features. <br>\n",
    "4 columns are integer(duration_sec, start_station_id, end_station_id, bike_id). <br>\n",
    "5 columns are object where start_time and end_time are timestamp, while that start_station_name, end_station_name, user_type are string. <br>\n",
    "4 columns are float (start_station_latitude, start_station_longitude, end_station_latitude, end_station_longitude). <br>\n",
    "I convert duration_sec to time readable format and I calculate the distance tracks from latitude and londitude columns. Also I extract the year, month and day from start_time column. Which mean I added 5 other columns to my dataset.\n",
    "</font> \n",
    "\n",
    "### The main feature of interest in dataset\n",
    "\n",
    "<font size=\"4\">I am interested in this new concept of renting bikes, I want analysis the time and distance traveled by each consumer and know which type of consumers is more  useable of Lyft services.</font>\n",
    "\n",
    "### The features in the dataset help support myinvestigation into my feature(s) of interest\n",
    "\n",
    "<font size=\"4\"> There are two types of bike users (Customer, Subscriber) I want to know which one uses the bikes more and for how long, thus the top 10 most popular start and finish stations in the city.</font>\n"
   ]
  },
  {
   "cell_type": "markdown",
   "metadata": {
    "slideshow": {
     "slide_type": "skip"
    }
   },
   "source": [
    "## Univariate Exploration\n"
   ]
  },
  {
   "cell_type": "markdown",
   "metadata": {
    "slideshow": {
     "slide_type": "skip"
    }
   },
   "source": [
    "To keep the orginal structure of our dataset and don't lost the data in case I make a copy of the dataset."
   ]
  },
  {
   "cell_type": "code",
   "execution_count": 15,
   "metadata": {
    "scrolled": true,
    "slideshow": {
     "slide_type": "skip"
    }
   },
   "outputs": [
    {
     "data": {
      "text/html": [
       "<div>\n",
       "<style scoped>\n",
       "    .dataframe tbody tr th:only-of-type {\n",
       "        vertical-align: middle;\n",
       "    }\n",
       "\n",
       "    .dataframe tbody tr th {\n",
       "        vertical-align: top;\n",
       "    }\n",
       "\n",
       "    .dataframe thead th {\n",
       "        text-align: right;\n",
       "    }\n",
       "</style>\n",
       "<table border=\"1\" class=\"dataframe\">\n",
       "  <thead>\n",
       "    <tr style=\"text-align: right;\">\n",
       "      <th></th>\n",
       "      <th>duration_sec</th>\n",
       "      <th>start_time</th>\n",
       "      <th>end_time</th>\n",
       "      <th>start_station_id</th>\n",
       "      <th>start_station_name</th>\n",
       "      <th>start_station_latitude</th>\n",
       "      <th>start_station_longitude</th>\n",
       "      <th>end_station_id</th>\n",
       "      <th>end_station_name</th>\n",
       "      <th>end_station_latitude</th>\n",
       "      <th>end_station_longitude</th>\n",
       "      <th>bike_id</th>\n",
       "      <th>user_type</th>\n",
       "      <th>hire_time</th>\n",
       "      <th>distance</th>\n",
       "      <th>start_year</th>\n",
       "      <th>start_month</th>\n",
       "      <th>start_day</th>\n",
       "    </tr>\n",
       "  </thead>\n",
       "  <tbody>\n",
       "    <tr>\n",
       "      <th>15</th>\n",
       "      <td>1544</td>\n",
       "      <td>2017-12-31 23:53:38.943</td>\n",
       "      <td>2018-01-01 00:19:23.0470</td>\n",
       "      <td>14</td>\n",
       "      <td>Clay St at Battery St</td>\n",
       "      <td>37.795001</td>\n",
       "      <td>-122.399970</td>\n",
       "      <td>27</td>\n",
       "      <td>Beale St at Harrison St</td>\n",
       "      <td>37.788059</td>\n",
       "      <td>-122.391865</td>\n",
       "      <td>558</td>\n",
       "      <td>Subscriber</td>\n",
       "      <td>00:25:00</td>\n",
       "      <td>1.1</td>\n",
       "      <td>2017</td>\n",
       "      <td>12</td>\n",
       "      <td>31</td>\n",
       "    </tr>\n",
       "    <tr>\n",
       "      <th>16</th>\n",
       "      <td>1474</td>\n",
       "      <td>2017-12-31 23:54:40.146</td>\n",
       "      <td>2018-01-01 00:19:14.3510</td>\n",
       "      <td>14</td>\n",
       "      <td>Clay St at Battery St</td>\n",
       "      <td>37.795001</td>\n",
       "      <td>-122.399970</td>\n",
       "      <td>27</td>\n",
       "      <td>Beale St at Harrison St</td>\n",
       "      <td>37.788059</td>\n",
       "      <td>-122.391865</td>\n",
       "      <td>3646</td>\n",
       "      <td>Subscriber</td>\n",
       "      <td>00:24:00</td>\n",
       "      <td>1.1</td>\n",
       "      <td>2017</td>\n",
       "      <td>12</td>\n",
       "      <td>31</td>\n",
       "    </tr>\n",
       "    <tr>\n",
       "      <th>17</th>\n",
       "      <td>1397</td>\n",
       "      <td>2017-12-31 23:55:09.686</td>\n",
       "      <td>2018-01-01 00:18:26.7210</td>\n",
       "      <td>78</td>\n",
       "      <td>Folsom St at 9th St</td>\n",
       "      <td>37.773717</td>\n",
       "      <td>-122.411647</td>\n",
       "      <td>15</td>\n",
       "      <td>San Francisco Ferry Building (Harry Bridges Pl...</td>\n",
       "      <td>37.795392</td>\n",
       "      <td>-122.394203</td>\n",
       "      <td>1667</td>\n",
       "      <td>Customer</td>\n",
       "      <td>00:23:00</td>\n",
       "      <td>2.9</td>\n",
       "      <td>2017</td>\n",
       "      <td>12</td>\n",
       "      <td>31</td>\n",
       "    </tr>\n",
       "  </tbody>\n",
       "</table>\n",
       "</div>"
      ],
      "text/plain": [
       "    duration_sec              start_time                  end_time  \\\n",
       "15          1544 2017-12-31 23:53:38.943  2018-01-01 00:19:23.0470   \n",
       "16          1474 2017-12-31 23:54:40.146  2018-01-01 00:19:14.3510   \n",
       "17          1397 2017-12-31 23:55:09.686  2018-01-01 00:18:26.7210   \n",
       "\n",
       "    start_station_id     start_station_name  start_station_latitude  \\\n",
       "15                14  Clay St at Battery St               37.795001   \n",
       "16                14  Clay St at Battery St               37.795001   \n",
       "17                78    Folsom St at 9th St               37.773717   \n",
       "\n",
       "    start_station_longitude  end_station_id  \\\n",
       "15              -122.399970              27   \n",
       "16              -122.399970              27   \n",
       "17              -122.411647              15   \n",
       "\n",
       "                                     end_station_name  end_station_latitude  \\\n",
       "15                            Beale St at Harrison St             37.788059   \n",
       "16                            Beale St at Harrison St             37.788059   \n",
       "17  San Francisco Ferry Building (Harry Bridges Pl...             37.795392   \n",
       "\n",
       "    end_station_longitude  bike_id   user_type hire_time  distance  \\\n",
       "15            -122.391865      558  Subscriber  00:25:00       1.1   \n",
       "16            -122.391865     3646  Subscriber  00:24:00       1.1   \n",
       "17            -122.394203     1667    Customer  00:23:00       2.9   \n",
       "\n",
       "    start_year  start_month  start_day  \n",
       "15        2017           12         31  \n",
       "16        2017           12         31  \n",
       "17        2017           12         31  "
      ]
     },
     "execution_count": 15,
     "metadata": {},
     "output_type": "execute_result"
    }
   ],
   "source": [
    "df_copy = df.copy()\n",
    "df_copy.head(3)"
   ]
  },
  {
   "cell_type": "markdown",
   "metadata": {
    "slideshow": {
     "slide_type": "slide"
    }
   },
   "source": [
    "### The percentage of each user type"
   ]
  },
  {
   "cell_type": "code",
   "execution_count": 16,
   "metadata": {
    "slideshow": {
     "slide_type": "subslide"
    }
   },
   "outputs": [
    {
     "data": {
      "image/png": "[encoded data removed]",
      "text/plain": [
       "<Figure size 432x288 with 1 Axes>"
      ]
     },
     "metadata": {
      "needs_background": "light"
     },
     "output_type": "display_data"
    }
   ],
   "source": [
    "sb.countplot(data = df_copy, x = df_copy.user_type)\n",
    "n_points = df_copy.shape[0]\n",
    "user_counts = df_copy['user_type'].value_counts()\n",
    "locs, labels = plt.xticks() # get the current tick locations and labels\n",
    "\n",
    "# loop through each pair of locations and labels\n",
    "for loc, label in zip(locs, labels):\n",
    "\n",
    "    # get the text property for the label to get the correct count\n",
    "    count = user_counts[label.get_text()]\n",
    "    pct_string = '{:0.1f}%'.format(100*count/n_points)\n",
    "\n",
    "    # print the annotation just below the top of the bar\n",
    "    plt.text(loc, count, pct_string, ha = 'center', color = 'b')\n",
    "plt.title('Number of each user type', fontsize = 14)\n",
    "plt.xlabel('Users type', fontsize = 14);"
   ]
  },
  {
   "cell_type": "markdown",
   "metadata": {
    "slideshow": {
     "slide_type": "slide"
    }
   },
   "source": [
    "<font size = \"4\">We can notice that the majority of Lyft vélo service users are subscribers (83.7%) and consumers (16.3%). This means that most users of Lyft services are subscribers.</font>"
   ]
  },
  {
   "cell_type": "markdown",
   "metadata": {},
   "source": [
    "<font size = \"4\">The Distribution of duration_sec</font>"
   ]
  },
  {
   "cell_type": "code",
   "execution_count": 17,
   "metadata": {
    "slideshow": {
     "slide_type": "skip"
    }
   },
   "outputs": [
    {
     "data": {
      "text/plain": [
       "648.1845906677843"
      ]
     },
     "execution_count": 17,
     "metadata": {},
     "output_type": "execute_result"
    }
   ],
   "source": [
    "#Calculing the duration_sec average\n",
    "duration_mean = df_copy.duration_sec.mean()\n",
    "duration_mean"
   ]
  },
  {
   "cell_type": "code",
   "execution_count": 18,
   "metadata": {
    "slideshow": {
     "slide_type": "notes"
    }
   },
   "outputs": [
    {
     "data": {
      "image/png": "[encoded data removed]",
      "text/plain": [
       "<Figure size 720x432 with 1 Axes>"
      ]
     },
     "metadata": {
      "needs_background": "light"
     },
     "output_type": "display_data"
    }
   ],
   "source": [
    "plt.figure(figsize = [10, 6])\n",
    "sb.distplot(df_copy['duration_sec'], rug=False, hist=True) #Plotting the duration_sec distribution \n",
    "\n",
    "plt.axvline(x=duration_mean,color ='red') #Creating a red axis to showing the mean position in the graphe\n",
    "plt.xticks(np.arange(0, 2000+100, 100), rotation = 45) #Set up the X axis values \n",
    "plt.title('Distribution of duration in second', fontsize = 14)\n",
    "plt.xlabel('duration (sec)', fontsize = 14);"
   ]
  },
  {
   "cell_type": "markdown",
   "metadata": {
    "slideshow": {
     "slide_type": "notes"
    }
   },
   "source": [
    "<font size = \"4\">We can notice that the distribution of duration_sec is left skew, this mean that the majority of users use the Lyft services under the mean duration which is 648.18 seconds.</font>\n"
   ]
  },
  {
   "cell_type": "markdown",
   "metadata": {},
   "source": [
    "<font size = \"4\">The Distribution of hire_time</font>"
   ]
  },
  {
   "cell_type": "code",
   "execution_count": 19,
   "metadata": {
    "slideshow": {
     "slide_type": "notes"
    }
   },
   "outputs": [
    {
     "data": {
      "image/png": "[encoded data removed]",
      "text/plain": [
       "<Figure size 720x432 with 1 Axes>"
      ]
     },
     "metadata": {
      "needs_background": "light"
     },
     "output_type": "display_data"
    }
   ],
   "source": [
    "plt.figure(figsize = [10, 6])\n",
    "sb.distplot(df_copy.hire_time, hist=True) #Plotting the hire_time distribution \n",
    "plt.title('Distribution of using time of Lyft services', fontsize = 14)\n",
    "plt.xlabel('Time (H:M:Sec)', fontsize = 14);"
   ]
  },
  {
   "cell_type": "markdown",
   "metadata": {
    "slideshow": {
     "slide_type": "notes"
    }
   },
   "source": [
    "<font size = \"4\">As we can see the distribution of users use the LYFT service time is right skewed distribution, which mean that the majority use the bikes for sshort duration under 1 hour. Which confirm the same result as before</font>\n"
   ]
  },
  {
   "cell_type": "markdown",
   "metadata": {},
   "source": [
    "<font size = \"4\">The Distribution of distance traveled</font>"
   ]
  },
  {
   "cell_type": "code",
   "execution_count": 20,
   "metadata": {
    "slideshow": {
     "slide_type": "notes"
    }
   },
   "outputs": [
    {
     "data": {
      "image/png": "[encoded data removed]",
      "text/plain": [
       "<Figure size 720x432 with 1 Axes>"
      ]
     },
     "metadata": {
      "needs_background": "light"
     },
     "output_type": "display_data"
    }
   ],
   "source": [
    "plt.figure(figsize = [10, 6])\n",
    "sb.distplot(df_copy['distance'], rug=False) #Plotting the distance distribution \n",
    "plt.xticks(np.arange(0, 8+0.5, 0.5)) #Set up the X axis values \n",
    "plt.title('Distribution of distance traveled by Lyft services', fontsize = 14)\n",
    "plt.xlabel('Distance (km)', fontsize = 14);"
   ]
  },
  {
   "cell_type": "markdown",
   "metadata": {
    "slideshow": {
     "slide_type": "notes"
    }
   },
   "source": [
    "<font size = \"4\">According to this histogram we can see that the users of LYFT Services use the bikes for short distances that do not exceed 5 km in the majority of cases.</font>"
   ]
  },
  {
   "cell_type": "markdown",
   "metadata": {},
   "source": [
    "<font size = \"4\">The Distribution of distance cumulation</font>"
   ]
  },
  {
   "cell_type": "code",
   "execution_count": 21,
   "metadata": {
    "slideshow": {
     "slide_type": "skip"
    }
   },
   "outputs": [],
   "source": [
    "#Creating a dictionary of claculing distance between start_station_id and end_station_id\n",
    "s = df_copy.groupby(['start_station_id', 'end_station_id']).distance.sum().round(2).sort_values(ascending = False).to_dict()\n",
    "\n",
    "#Creating a new dictionary with 2 lists\n",
    "#List of first dictionary values and List of first dictionary keys\n",
    "data = {'trajectory': list(s.keys()), 'distance':list(s.values())}\n",
    "\n",
    "#Creating new Trajectory data frame \n",
    "trajectory = pd.DataFrame(data)\n"
   ]
  },
  {
   "cell_type": "code",
   "execution_count": 22,
   "metadata": {
    "slideshow": {
     "slide_type": "skip"
    }
   },
   "outputs": [
    {
     "data": {
      "text/plain": [
       "distance    34.7\n",
       "dtype: float64"
      ]
     },
     "execution_count": 22,
     "metadata": {},
     "output_type": "execute_result"
    }
   ],
   "source": [
    "Q1 = trajectory.quantile(0.25)\n",
    "Q3 = trajectory.quantile(0.75)\n",
    "IQR = Q3 - Q1\n",
    "IQR"
   ]
  },
  {
   "cell_type": "code",
   "execution_count": 23,
   "metadata": {
    "slideshow": {
     "slide_type": "skip"
    }
   },
   "outputs": [
    {
     "data": {
      "text/plain": [
       "(12024, 2)"
      ]
     },
     "execution_count": 23,
     "metadata": {},
     "output_type": "execute_result"
    }
   ],
   "source": [
    "trajectory.shape"
   ]
  },
  {
   "cell_type": "code",
   "execution_count": 24,
   "metadata": {
    "slideshow": {
     "slide_type": "skip"
    }
   },
   "outputs": [
    {
     "data": {
      "text/plain": [
       "(10744, 2)"
      ]
     },
     "execution_count": 24,
     "metadata": {},
     "output_type": "execute_result"
    }
   ],
   "source": [
    "#Remove the outliers\n",
    "trajectory = trajectory[~((trajectory < (Q1 - 1.5 * IQR)) |(trajectory > (Q3 + 1.5 * IQR))).any(axis=1)]\n",
    "trajectory.shape"
   ]
  },
  {
   "cell_type": "code",
   "execution_count": 25,
   "metadata": {
    "slideshow": {
     "slide_type": "notes"
    }
   },
   "outputs": [
    {
     "data": {
      "image/png": "[encoded data removed]",
      "text/plain": [
       "<Figure size 720x432 with 1 Axes>"
      ]
     },
     "metadata": {
      "needs_background": "light"
     },
     "output_type": "display_data"
    }
   ],
   "source": [
    "plt.figure(figsize = [10, 6])\n",
    "sb.distplot(trajectory['distance'], rug=False, hist=True)\n",
    "plt.xticks(np.arange(0, 110+10, 10))\n",
    "plt.title('Distribution of cumulation of distance for each trajectory', fontsize = 14)\n",
    "plt.xlabel('Distance (km)', fontsize = 14);"
   ]
  },
  {
   "cell_type": "markdown",
   "metadata": {
    "slideshow": {
     "slide_type": "notes"
    }
   },
   "source": [
    "<font size = \"4\">After summing up the distances from the same starting point and different arrival points, I found that the majority of the distances covered are less than 20 km. This gives another indication of the short distances travelled by users. </font>"
   ]
  },
  {
   "cell_type": "markdown",
   "metadata": {
    "slideshow": {
     "slide_type": "slide"
    }
   },
   "source": [
    "### The counting of months in dataset"
   ]
  },
  {
   "cell_type": "code",
   "execution_count": 26,
   "metadata": {
    "slideshow": {
     "slide_type": "subslide"
    }
   },
   "outputs": [
    {
     "data": {
      "image/png": "[encoded data removed]",
      "text/plain": [
       "<Figure size 720x432 with 1 Axes>"
      ]
     },
     "metadata": {
      "needs_background": "light"
     },
     "output_type": "display_data"
    }
   ],
   "source": [
    "plt.figure(figsize = [10, 6])\n",
    "base_color = sb.color_palette()[0]\n",
    "sb.countplot(data = df_copy, x = df_copy.start_month, color = base_color)\n",
    "plt.title('Counting of months', fontsize = 14)\n",
    "plt.xlabel('Months (unite)', fontsize = 14);"
   ]
  },
  {
   "cell_type": "markdown",
   "metadata": {
    "slideshow": {
     "slide_type": "slide"
    }
   },
   "source": [
    "<font size = \"4\">Even the data collection starts in June, we can notice the optimum is reached in October and starts to decrease in November and December. it is probably caused by the beginning of the winter season.</font>"
   ]
  },
  {
   "cell_type": "markdown",
   "metadata": {
    "slideshow": {
     "slide_type": "slide"
    }
   },
   "source": [
    "<font size = \"4\">The distrubtion of the variables is right skewed distributed and give an idea how the users use the Lyft services for short duration and distance in majority of cases. Also, before I start plotting, I droped the outlier values to eliminate the outlier effect.</font>\n",
    "<br>\n",
    "<font size = \"4\">In my case I convert some columns to readable and useful format of data, like date, time and distance. For distance altitude and longitude columns become useless after calculating distance.</font>"
   ]
  },
  {
   "cell_type": "markdown",
   "metadata": {
    "slideshow": {
     "slide_type": "skip"
    }
   },
   "source": [
    "## Bivariate Exploration"
   ]
  },
  {
   "cell_type": "markdown",
   "metadata": {
    "slideshow": {
     "slide_type": "slide"
    }
   },
   "source": [
    "### The duration sum for each user type"
   ]
  },
  {
   "cell_type": "code",
   "execution_count": 27,
   "metadata": {
    "slideshow": {
     "slide_type": "subslide"
    }
   },
   "outputs": [
    {
     "data": {
      "image/png": "[encoded data removed]",
      "text/plain": [
       "<Figure size 720x432 with 1 Axes>"
      ]
     },
     "metadata": {
      "needs_background": "light"
     },
     "output_type": "display_data"
    }
   ],
   "source": [
    "plt.figure(figsize = [10, 6])\n",
    "users = ['Customer', 'Subscriber']\n",
    "duration_sum = df_copy.groupby(['user_type']).hire_time.sum()\n",
    "plt.bar(users,duration_sum, width = 0.5)\n",
    "plt.title('Sum of duration for each Lyft services type user', fontsize = 14);"
   ]
  },
  {
   "cell_type": "markdown",
   "metadata": {
    "slideshow": {
     "slide_type": "slide"
    }
   },
   "source": [
    "<font size = \"4\">As we can see they are a huge gape between using time of Subscribers and Customers, it's can be 3 times the using duration sum of Customers. </font>"
   ]
  },
  {
   "cell_type": "markdown",
   "metadata": {
    "slideshow": {
     "slide_type": "slide"
    }
   },
   "source": [
    "### The distance sum for each user type"
   ]
  },
  {
   "cell_type": "code",
   "execution_count": 28,
   "metadata": {
    "slideshow": {
     "slide_type": "subslide"
    }
   },
   "outputs": [
    {
     "data": {
      "image/png": "[encoded data removed]",
      "text/plain": [
       "<Figure size 720x432 with 1 Axes>"
      ]
     },
     "metadata": {
      "needs_background": "light"
     },
     "output_type": "display_data"
    }
   ],
   "source": [
    "plt.figure(figsize = [10, 6])\n",
    "users = ['Customer', 'Subscriber']\n",
    "duration_sum = df_copy.groupby(['user_type']).distance.sum()\n",
    "plt.bar(users,duration_sum, width = 0.5)\n",
    "plt.title('Sum of distance for each Lyft services type user', fontsize = 14);"
   ]
  },
  {
   "cell_type": "markdown",
   "metadata": {
    "slideshow": {
     "slide_type": "slide"
    }
   },
   "source": [
    "<font size = \"4\">As we noticed for using time sum in chart above, is the same case for using distance sum, they are a huge gape between using distance of Subscribers and Customers, it's can be 4 times the using duration sum of Customers. </font>"
   ]
  },
  {
   "cell_type": "markdown",
   "metadata": {
    "slideshow": {
     "slide_type": "skip"
    }
   },
   "source": [
    "<font size = \"4\">Statistical reporting for each consumers by distance</font>"
   ]
  },
  {
   "cell_type": "code",
   "execution_count": 29,
   "metadata": {
    "slideshow": {
     "slide_type": "skip"
    }
   },
   "outputs": [
    {
     "data": {
      "image/png": "[encoded data removed]",
      "text/plain": [
       "<Figure size 864x360 with 1 Axes>"
      ]
     },
     "metadata": {
      "needs_background": "light"
     },
     "output_type": "display_data"
    }
   ],
   "source": [
    "plt.figure(figsize = [12, 5])\n",
    "sb.boxplot(data = df_copy, y = 'user_type', x = 'distance');"
   ]
  },
  {
   "cell_type": "markdown",
   "metadata": {
    "slideshow": {
     "slide_type": "skip"
    }
   },
   "source": [
    "<font size = \"4\">As we can see the Customers have a large variation of distance values than the Subscribers, in other hand the Subscribers have more outlier values than Customers.</font>"
   ]
  },
  {
   "cell_type": "markdown",
   "metadata": {
    "slideshow": {
     "slide_type": "skip"
    }
   },
   "source": [
    "Statistical reporting for each consumers by duration_sec"
   ]
  },
  {
   "cell_type": "code",
   "execution_count": 30,
   "metadata": {
    "slideshow": {
     "slide_type": "skip"
    }
   },
   "outputs": [
    {
     "data": {
      "image/png": "[encoded data removed]",
      "text/plain": [
       "<Figure size 864x360 with 1 Axes>"
      ]
     },
     "metadata": {
      "needs_background": "light"
     },
     "output_type": "display_data"
    }
   ],
   "source": [
    "plt.figure(figsize = [12, 5])\n",
    "sb.boxplot(data = df_copy, y = 'user_type', x = 'duration_sec');"
   ]
  },
  {
   "cell_type": "markdown",
   "metadata": {
    "slideshow": {
     "slide_type": "skip"
    }
   },
   "source": [
    "<font size = \"4\">As we can see the Customers have a large variation of duration_sec values than the Subscribers, in other hand the Subscribers have more outlier values than Customers.</font>"
   ]
  },
  {
   "cell_type": "markdown",
   "metadata": {
    "slideshow": {
     "slide_type": "slide"
    }
   },
   "source": [
    "<font size= '4'>To simplify the comparison and the analysis of the results, I planned to create bins for distance, hire time and duration_sec. These bins are based on quartiles to get equal bins.</font>"
   ]
  },
  {
   "cell_type": "code",
   "execution_count": 31,
   "metadata": {
    "slideshow": {
     "slide_type": "subslide"
    }
   },
   "outputs": [],
   "source": [
    "# For duration_sec: Q1 = 382 sec, Q2 = 576 sec, Q3 = 842 sec, MAX = 1172 sec\n",
    "df_copy['duration_bins'] = pd.qcut(df_copy.duration_sec, 4, labels = ['<= 382 sec', '<= 576 sec', '<= 842 sec', '<= 1172 sec'])\n",
    "\n",
    "# for distance: Q1 = 1 km, Q2 = 1.5 km, Q3 = 2.1 km, Max = 6.9 km\n",
    "df_copy['distance_bins'] = pd.qcut(df_copy.distance, 4, labels = ['<= 1 km', '<= 1.5 km', '<= 2.1 km', '<= 6.9 km'])\n",
    "\n",
    "# For hire_time: Q1 = 06 min, Q2 = 09 min, Q3 = 14 min, Max = 29 min\n",
    "df_copy['hire_bins'] = pd.qcut(df_copy.hire_time, 4, labels = ['<= 06 min', '<= 09 min', '<= 14 min', '<= 29 min'])"
   ]
  },
  {
   "cell_type": "markdown",
   "metadata": {
    "slideshow": {
     "slide_type": "slide"
    }
   },
   "source": [
    "### The distance traveled for each time quartile bin"
   ]
  },
  {
   "cell_type": "code",
   "execution_count": 32,
   "metadata": {
    "slideshow": {
     "slide_type": "subslide"
    }
   },
   "outputs": [
    {
     "data": {
      "text/plain": [
       "<Figure size 1152x720 with 0 Axes>"
      ]
     },
     "metadata": {},
     "output_type": "display_data"
    },
    {
     "data": {
      "image/png": "[encoded data removed]",
      "text/plain": [
       "<Figure size 360x360 with 1 Axes>"
      ]
     },
     "metadata": {
      "needs_background": "light"
     },
     "output_type": "display_data"
    }
   ],
   "source": [
    "plt.figure(figsize = [16, 10])\n",
    "sb.catplot(x=\"distance\", y=\"hire_bins\", data=df_copy)\n",
    "plt.title('The distance traveled for each time quartile bin', fontsize = 14)\n",
    "plt.xlabel('Distance (km)', fontsize = 14)\n",
    "plt.ylabel('Time quartile (min)', fontsize = 14);"
   ]
  },
  {
   "cell_type": "markdown",
   "metadata": {
    "slideshow": {
     "slide_type": "slide"
    }
   },
   "source": [
    "<font size = \"4\">As we can see the number of users who use the Lyft bikes for long time traveling more distance, but they are many users who use Lyft bikes for long period but didn't use it for long distance.</font>"
   ]
  },
  {
   "cell_type": "markdown",
   "metadata": {
    "slideshow": {
     "slide_type": "slide"
    }
   },
   "source": [
    "### The duration passed for each distance quartile bin"
   ]
  },
  {
   "cell_type": "code",
   "execution_count": 33,
   "metadata": {
    "slideshow": {
     "slide_type": "subslide"
    }
   },
   "outputs": [
    {
     "data": {
      "text/plain": [
       "<Figure size 1152x720 with 0 Axes>"
      ]
     },
     "metadata": {},
     "output_type": "display_data"
    },
    {
     "data": {
      "image/png": "[encoded data removed]",
      "text/plain": [
       "<Figure size 360x360 with 1 Axes>"
      ]
     },
     "metadata": {
      "needs_background": "light"
     },
     "output_type": "display_data"
    }
   ],
   "source": [
    "plt.figure(figsize = [16, 10])\n",
    "sb.catplot(y=\"distance_bins\", x=\"duration_sec\", data=df_copy)\n",
    "plt.xticks(rotation = 45)\n",
    "plt.title('The time tpassed for each distance quartile bin', fontsize = 14)\n",
    "plt.xlabel('Time (sec)', fontsize = 14)\n",
    "plt.ylabel('Distance (km)', fontsize = 14);"
   ]
  },
  {
   "cell_type": "markdown",
   "metadata": {
    "slideshow": {
     "slide_type": "slide"
    }
   },
   "source": [
    "<font size = \"4\">As we can see they are many number of users who use the Lyft bikes for short distance traveling but use the bikes for long time. Also they are many users who use Lyft bikes for long distance but didn't use it for long time.</font>"
   ]
  },
  {
   "cell_type": "markdown",
   "metadata": {
    "slideshow": {
     "slide_type": "skip"
    }
   },
   "source": [
    "<font size = \"4\">Distribution of using Lyft services by time and distance in months and week days </font>"
   ]
  },
  {
   "cell_type": "code",
   "execution_count": 34,
   "metadata": {
    "slideshow": {
     "slide_type": "skip"
    }
   },
   "outputs": [
    {
     "data": {
      "text/plain": [
       "<seaborn.axisgrid.FacetGrid at 0x7f8fb474b410>"
      ]
     },
     "execution_count": 34,
     "metadata": {},
     "output_type": "execute_result"
    },
    {
     "data": {
      "image/png": "[encoded data removed]",
      "text/plain": [
       "<Figure size 1411.2x288 with 7 Axes>"
      ]
     },
     "metadata": {
      "needs_background": "light"
     },
     "output_type": "display_data"
    }
   ],
   "source": [
    "chart = sb.catplot(x=\"hire_bins\", col=\"start_month\", data=df_copy, kind=\"count\", height=4, aspect=0.7, color = base_color)\n",
    "chart.set_xticklabels(rotation=45)"
   ]
  },
  {
   "cell_type": "code",
   "execution_count": 35,
   "metadata": {
    "slideshow": {
     "slide_type": "skip"
    }
   },
   "outputs": [
    {
     "data": {
      "image/png": "[encoded data removed]",
      "text/plain": [
       "<Figure size 1411.2x288 with 7 Axes>"
      ]
     },
     "metadata": {
      "needs_background": "light"
     },
     "output_type": "display_data"
    }
   ],
   "source": [
    "chart2 = sb.catplot(x=\"distance_bins\", col=\"start_month\", data=df_copy, kind=\"count\", height=4, aspect=0.7, color = base_color)\n",
    "chart2.set_xticklabels(rotation=45);"
   ]
  },
  {
   "cell_type": "markdown",
   "metadata": {
    "slideshow": {
     "slide_type": "skip"
    }
   },
   "source": [
    "<font size = \"4\">There is no change in the behavior of Lyft bike service users in terms of time and distance of use throughout the months. There is a general tendency to use the service for short and medium duration and the same for distance. Note also that the use intensified in the month of October after an increase during the previous 4 months. </font>"
   ]
  },
  {
   "cell_type": "markdown",
   "metadata": {
    "slideshow": {
     "slide_type": "slide"
    }
   },
   "source": [
    "<font size = \"4\">Firstly, I wanted to know the use of Lyft bike service for each type of consumer, I found that Suscribers use these services more for long duration and long distance. \n",
    "Secondly, I found that the time of use and distances travelled are very varied for Customer consumers more than Subscriber consumers. Thirdly, I noticed that many of both types of users use Lyft's services to rent bikes for a long period of time but do not use them for long distance, alsp I noticed that many users ride long distances but for a short period of time, so it is important to know which type of users do so. Concerning the distribution of use of Lyfts vélo services all along the months concerned in this dataset, the same logic of use in terms of time and distance remains valid.</font>\n",
    "<br>"
   ]
  },
  {
   "cell_type": "markdown",
   "metadata": {
    "slideshow": {
     "slide_type": "skip"
    }
   },
   "source": [
    "## Multivariate Exploration"
   ]
  },
  {
   "cell_type": "markdown",
   "metadata": {
    "slideshow": {
     "slide_type": "slide"
    }
   },
   "source": [
    "### The average of distance traveled in each time quartile bin for type users"
   ]
  },
  {
   "cell_type": "code",
   "execution_count": 36,
   "metadata": {
    "slideshow": {
     "slide_type": "subslide"
    }
   },
   "outputs": [
    {
     "data": {
      "image/png": "[encoded data removed]",
      "text/plain": [
       "<Figure size 720x432 with 2 Axes>"
      ]
     },
     "metadata": {
      "needs_background": "light"
     },
     "output_type": "display_data"
    }
   ],
   "source": [
    "plt.figure(figsize = [10, 6])\n",
    "\n",
    "#Grouping df_copy by user_type and hire_bins\n",
    "#Calculing the distance average after grouping\n",
    "cat_means = df_copy.groupby(['user_type', 'hire_bins']).mean()['distance']\n",
    "cat_means = cat_means.reset_index(name = 'distance_avg')\n",
    "\n",
    "#Pivot the cat_means grouped data frame for using it in heatmap \n",
    "cat_means = cat_means.pivot(index = 'hire_bins', columns = 'user_type', values = 'distance_avg')\n",
    "\n",
    "#Plotting heatmap\n",
    "sb.heatmap(cat_means, annot = True, fmt = '.2f', cbar_kws = {'label' : 'mean(distance)'})\n",
    "\n",
    "#Set up Title, X-axis and Y-axis labels\n",
    "plt.title('The average of distance traveled in each time quartile bin for type users', fontsize = 14)\n",
    "plt.xlabel('Users type', fontsize = 14)\n",
    "plt.ylabel('Time quartile bin (min)', fontsize = 14);"
   ]
  },
  {
   "cell_type": "markdown",
   "metadata": {
    "slideshow": {
     "slide_type": "slide"
    }
   },
   "source": [
    "<font size = \"4\">Subscribe consumers use the Lyft vélo services for a longer average distance and for a longer period of time than Customer consumers, which is in line with the results of the bivariate analysis.</font>"
   ]
  },
  {
   "cell_type": "markdown",
   "metadata": {
    "slideshow": {
     "slide_type": "slide"
    }
   },
   "source": [
    "### The average of duration passed in each distance quartile bin for type users"
   ]
  },
  {
   "cell_type": "code",
   "execution_count": 37,
   "metadata": {
    "slideshow": {
     "slide_type": "subslide"
    }
   },
   "outputs": [
    {
     "data": {
      "image/png": "[encoded data removed]",
      "text/plain": [
       "<Figure size 720x432 with 2 Axes>"
      ]
     },
     "metadata": {
      "needs_background": "light"
     },
     "output_type": "display_data"
    }
   ],
   "source": [
    "plt.figure(figsize = [10, 6])\n",
    "\n",
    "#Grouping df_copy by user_type and distance_bins\n",
    "#Calculing the duration_sec average after grouping\n",
    "cat_means2 = df_copy.groupby(['user_type', 'distance_bins']).mean()['duration_sec']\n",
    "cat_means2 = cat_means2.reset_index(name = 'duration_avg')\n",
    "\n",
    "#Pivot the cat_means2 grouped data frame for using it in heatmap \n",
    "cat_means2 = cat_means2.pivot(index = 'distance_bins', columns = 'user_type', values = 'duration_avg')\n",
    "\n",
    "#Plotting heatmap\n",
    "sb.heatmap(cat_means2, annot = True, fmt = '.2f', cbar_kws = {'label' : 'mean(duration_sec)'})\n",
    "\n",
    "#Set up Title, X-axis and Y-axis labels\n",
    "plt.title('The average of duration passed in each distance quartile bin for type users', fontsize = 14)\n",
    "plt.xlabel('Users type', fontsize = 14)\n",
    "plt.ylabel('Distance quartile bin (km)', fontsize = 14);"
   ]
  },
  {
   "cell_type": "markdown",
   "metadata": {
    "slideshow": {
     "slide_type": "slide"
    }
   },
   "source": [
    "<font size = \"4\">We can notice that the Customer Consumers use the Lyft vélo services for a higher average duration and for a longer period of time than the Subscriber Consumers.</font>"
   ]
  },
  {
   "cell_type": "markdown",
   "metadata": {
    "slideshow": {
     "slide_type": "slide"
    }
   },
   "source": [
    "### Comparison between the average of duration of each user type by distance"
   ]
  },
  {
   "cell_type": "code",
   "execution_count": 38,
   "metadata": {
    "slideshow": {
     "slide_type": "subslide"
    }
   },
   "outputs": [
    {
     "name": "stderr",
     "output_type": "stream",
     "text": [
      "/home/otmane/anaconda3/lib/python3.7/site-packages/seaborn/axisgrid.py:243: UserWarning: The `size` parameter has been renamed to `height`; please update your code.\n",
      "  warnings.warn(msg, UserWarning)\n"
     ]
    },
    {
     "data": {
      "text/plain": [
       "<Figure size 720x432 with 0 Axes>"
      ]
     },
     "metadata": {},
     "output_type": "display_data"
    },
    {
     "data": {
      "image/png": "[encoded data removed]",
      "text/plain": [
       "<Figure size 467.2x360 with 1 Axes>"
      ]
     },
     "metadata": {
      "needs_background": "light"
     },
     "output_type": "display_data"
    }
   ],
   "source": [
    "plt.figure(figsize = [10, 6])\n",
    "\n",
    "def mean_poly(x, y, bins = 10, **kwargs):\n",
    "    \"\"\" Custom adapted line plot code. \"\"\"\n",
    "    # set bin edges if none or int specified\n",
    "    if type(bins) == int:\n",
    "        bins = np.linspace(x.min(), x.max(), bins+1)\n",
    "    bin_centers = (bin_edges[1:] + bin_edges[:-1]) / 2\n",
    "\n",
    "    # compute counts\n",
    "    data_bins = pd.cut(x, bins, right = False,\n",
    "                       include_lowest = True)\n",
    "    means = y.groupby(data_bins).mean()\n",
    "\n",
    "    # create plot\n",
    "    plt.errorbar(x = bin_centers, y = means, **kwargs)\n",
    "\n",
    "#Set up bins value\n",
    "bin_edges = np.arange(0, df['distance'].max()+0.5, 0.5)\n",
    "\n",
    "#Set up a line for each user\n",
    "g = sb.FacetGrid(data = df_copy, hue = 'user_type', size = 5)\n",
    "\n",
    "#Plotting the lines \n",
    "g.map(mean_poly, \"distance\", \"duration_sec\", bins = bin_edges)\n",
    "g.add_legend(fontsize = 12)\n",
    "\n",
    "#Set up Title, X-axis and Y-axis labels\n",
    "plt.title('Comparison between the average of duration of each user type by distance', fontsize = 14)\n",
    "plt.xlabel('Distance (km)', fontsize = 14)\n",
    "plt.ylabel('Duration (sec)', fontsize = 14);"
   ]
  },
  {
   "cell_type": "markdown",
   "metadata": {
    "slideshow": {
     "slide_type": "slide"
    }
   },
   "source": [
    "<font size = \"4\">As we have seen above, we notice in the line chart that Costumer consumers use the Lyft vélo service for a higher average duration than Subscriber consumers.</font>"
   ]
  },
  {
   "cell_type": "markdown",
   "metadata": {
    "slideshow": {
     "slide_type": "slide"
    }
   },
   "source": [
    "<font size = \"4\">In multi-variable visualization I found that Customers use Lyft bikes for a higher average time than Subscribers for long distances, which even shows that the number of Subscriber Consumers is higher than the number of Customer Consumers, but the latter use the bicycles for a higher average duration.</font>\n",
    "<br>\n",
    "<font size = \"4\">The relationship noted above appeared difficult to in Univariate and Bivariate visualization, given that it is normal is a duration of use of Lyft bicycles services must be higher among Subscribers than Customers.</font>"
   ]
  },
  {
   "cell_type": "code",
   "execution_count": null,
   "metadata": {},
   "outputs": [],
   "source": []
  }
 ],
 "metadata": {
  "celltoolbar": "Diaporama",
  "kernelspec": {
   "display_name": "Python 3",
   "language": "python",
   "name": "python3"
  },
  "language_info": {
   "codemirror_mode": {
    "name": "ipython",
    "version": 3
   },
   "file_extension": ".py",
   "mimetype": "text/x-python",
   "name": "python",
   "nbconvert_exporter": "python",
   "pygments_lexer": "ipython3",
   "version": "3.8.1"
  }
 },
 "nbformat": 4,
 "nbformat_minor": 4
}
